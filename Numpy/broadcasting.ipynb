{
 "cells": [
  {
   "cell_type": "code",
   "execution_count": 1,
   "id": "98b35f68",
   "metadata": {},
   "outputs": [],
   "source": [
    "import numpy as np"
   ]
  },
  {
   "cell_type": "markdown",
   "id": "c0c5a9bc",
   "metadata": {},
   "source": [
    "# BroadCasting"
   ]
  },
  {
   "cell_type": "code",
   "execution_count": null,
   "id": "5cab67b8",
   "metadata": {},
   "outputs": [],
   "source": [
    "a = np.array([1, 2, 3]) # shape (3,)\n",
    "b = np.array([4, 5, 6]) # shape (3,)\n",
    "\n",
    "# element-wise addition \n",
    "c = a + b # shape (3,)\n",
    "\n",
    "b1 = np.array([4]) # shape (1,)\n",
    "\n",
    "# broadcasting addition\n",
    "c1 = a + b1 # shape (3,) -> numpy broadcasts b1 to shape (3,) by repeating its values b1 = [4, 4, 4 ]\n",
    "print(c1)\n"
   ]
  }
 ],
 "metadata": {
  "kernelspec": {
   "display_name": "venv",
   "language": "python",
   "name": "python3"
  },
  "language_info": {
   "codemirror_mode": {
    "name": "ipython",
    "version": 3
   },
   "file_extension": ".py",
   "mimetype": "text/x-python",
   "name": "python",
   "nbconvert_exporter": "python",
   "pygments_lexer": "ipython3",
   "version": "3.10.15"
  }
 },
 "nbformat": 4,
 "nbformat_minor": 5
}
