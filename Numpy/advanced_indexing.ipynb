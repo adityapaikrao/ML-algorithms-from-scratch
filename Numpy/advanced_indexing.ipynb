{
 "cells": [
  {
   "cell_type": "code",
   "execution_count": 1,
   "id": "739b23bf",
   "metadata": {},
   "outputs": [],
   "source": [
    "import numpy as np"
   ]
  },
  {
   "cell_type": "markdown",
   "id": "f574dc98",
   "metadata": {},
   "source": [
    "# Advanced Indexing in Numpy\n",
    "\n",
    "Advanced Indexing lets you select specific elements, rows, columns, or subarrays using lists, tuples, or boolean arrays, rather than only slices or single integer positions."
   ]
  },
  {
   "cell_type": "markdown",
   "id": "0bcd6afe",
   "metadata": {},
   "source": [
    "### Basic Indexing"
   ]
  },
  {
   "cell_type": "code",
   "execution_count": 9,
   "id": "2792c585",
   "metadata": {},
   "outputs": [],
   "source": [
    "a = np.array([[1, 2, 3],\n",
    "              [4, 5, 6],\n",
    "              [7, 8, 9]])  # 3x3 array"
   ]
  },
  {
   "cell_type": "code",
   "execution_count": 12,
   "id": "345da6a4",
   "metadata": {},
   "outputs": [
    {
     "name": "stdout",
     "output_type": "stream",
     "text": [
      "a[0] return: \n",
      " [1 2 3]\n",
      "a[0][1] return: \n",
      " 2\n",
      "a[0:2] return: \n",
      " [[1 2 3]\n",
      " [4 5 6]]\n",
      "a[0:2, :] return: \n",
      " [[1 2 3]\n",
      " [4 5 6]]\n",
      "a[:, 1] return: \n",
      " [2 5 8]\n"
     ]
    }
   ],
   "source": [
    "x = a[0] # gets the first row\n",
    "print(\"a[0] return: \\n\", x)\n",
    "\n",
    "x = a[0][1] # gets the element at (0, 1)\n",
    "print(\"a[0][1] return: \\n\", x)\n",
    "\n",
    "x = a[0:2] # gets rows 0, 1\n",
    "print(\"a[0:2] return: \\n\", x)\n",
    "\n",
    "x = a[0:2, :] # same as above\n",
    "print(\"a[0:2, :] return: \\n\", x)\n",
    "\n",
    "x = a[:, 1] # get all rows, 2nd column\n",
    "print(\"a[:, 1] return: \\n\", x)"
   ]
  },
  {
   "cell_type": "markdown",
   "id": "70a5a4bd",
   "metadata": {},
   "source": [
    "### Advanced Indexing with Lists\n",
    "\n",
    "Use lists or arrays of indices to select arbitrary rows or columns."
   ]
  },
  {
   "cell_type": "code",
   "execution_count": 18,
   "id": "30698aa7",
   "metadata": {},
   "outputs": [
    {
     "data": {
      "text/plain": [
       "array([[1, 2, 3],\n",
       "       [7, 8, 9]])"
      ]
     },
     "execution_count": 18,
     "metadata": {},
     "output_type": "execute_result"
    }
   ],
   "source": [
    "# Example: select rows 0 and 2:\n",
    "\n",
    "a[[0, 2]]"
   ]
  },
  {
   "cell_type": "code",
   "execution_count": 17,
   "id": "7a2d9b05",
   "metadata": {},
   "outputs": [
    {
     "data": {
      "text/plain": [
       "array([[1, 3],\n",
       "       [4, 6],\n",
       "       [7, 9]])"
      ]
     },
     "execution_count": 17,
     "metadata": {},
     "output_type": "execute_result"
    }
   ],
   "source": [
    "# Example: select all rows, columns 0 and 2:\n",
    "\n",
    "a[:, [0, 2]]"
   ]
  },
  {
   "cell_type": "code",
   "execution_count": 19,
   "id": "e7f39998",
   "metadata": {},
   "outputs": [
    {
     "data": {
      "text/plain": [
       "array([1, 9])"
      ]
     },
     "execution_count": 19,
     "metadata": {},
     "output_type": "execute_result"
    }
   ],
   "source": [
    "# Example: select elements at positions (0,0) and (2,2):\n",
    "\n",
    "a[[0, 2], [0, 2]]  # picks (0,0) and (2,2)"
   ]
  },
  {
   "cell_type": "markdown",
   "id": "6ebdfe45",
   "metadata": {},
   "source": [
    "### Adding New Axes\n",
    "\n",
    "Use np.newaxis to add a dimension, often for compatibility in ML models\n",
    "\n",
    "Where you add the new axis matters"
   ]
  },
  {
   "cell_type": "code",
   "execution_count": 20,
   "id": "6720aa52",
   "metadata": {},
   "outputs": [
    {
     "data": {
      "text/plain": [
       "array([[2],\n",
       "       [5],\n",
       "       [8]])"
      ]
     },
     "execution_count": 20,
     "metadata": {},
     "output_type": "execute_result"
    }
   ],
   "source": [
    "col = a[:, 1]           # shape (3,)\n",
    "col_new_axis = a[:, 1, np.newaxis]  # shape (3, 1)\n",
    "\n",
    "col_new_axis"
   ]
  },
  {
   "cell_type": "markdown",
   "id": "98083f4a",
   "metadata": {},
   "source": [
    "### Using Boolean Arrays or Masks to filter data"
   ]
  },
  {
   "cell_type": "code",
   "execution_count": 22,
   "id": "f17a16f4",
   "metadata": {},
   "outputs": [
    {
     "data": {
      "text/plain": [
       "array([[1, 2, 3],\n",
       "       [7, 8, 9]])"
      ]
     },
     "execution_count": 22,
     "metadata": {},
     "output_type": "execute_result"
    }
   ],
   "source": [
    "a[[True, False, True]]  # selects rows 0 and 2"
   ]
  },
  {
   "cell_type": "code",
   "execution_count": 27,
   "id": "8abea142",
   "metadata": {},
   "outputs": [
    {
     "data": {
      "text/plain": [
       "array([[1, 3],\n",
       "       [4, 6],\n",
       "       [7, 9]])"
      ]
     },
     "execution_count": 27,
     "metadata": {},
     "output_type": "execute_result"
    }
   ],
   "source": [
    "a[:, [True, False, True]] # select all rows but only columns 0 and 2 equivalent to a[:, [0, 2]]"
   ]
  },
  {
   "cell_type": "code",
   "execution_count": 23,
   "id": "661ac454",
   "metadata": {},
   "outputs": [
    {
     "data": {
      "text/plain": [
       "array([2, 4, 6, 8])"
      ]
     },
     "execution_count": 23,
     "metadata": {},
     "output_type": "execute_result"
    }
   ],
   "source": [
    "mask = (a % 2 == 0)  # mask for even numbers\n",
    "a[mask]  # returns array of even numbers"
   ]
  }
 ],
 "metadata": {
  "kernelspec": {
   "display_name": "venv",
   "language": "python",
   "name": "python3"
  },
  "language_info": {
   "codemirror_mode": {
    "name": "ipython",
    "version": 3
   },
   "file_extension": ".py",
   "mimetype": "text/x-python",
   "name": "python",
   "nbconvert_exporter": "python",
   "pygments_lexer": "ipython3",
   "version": "3.10.15"
  }
 },
 "nbformat": 4,
 "nbformat_minor": 5
}
